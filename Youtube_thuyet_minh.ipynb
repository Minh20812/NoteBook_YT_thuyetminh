{
  "cells": [
    {
      "cell_type": "markdown",
      "metadata": {
        "id": "view-in-github",
        "colab_type": "text"
      },
      "source": [
        "<a href=\"https://colab.research.google.com/github/Minh20812/NoteBook_YT_thuyetminh/blob/main/Youtube_thuyet_minh.ipynb\" target=\"_parent\"><img src=\"https://colab.research.google.com/assets/colab-badge.svg\" alt=\"Open In Colab\"/></a>"
      ]
    },
    {
      "cell_type": "code",
      "execution_count": null,
      "metadata": {
        "collapsed": true,
        "id": "F3DuxmxfNJgz"
      },
      "outputs": [],
      "source": [
        "%cd /content/drive/MyDrive/tool\n",
        "!pip install --upgrade yt-dlp internetarchive edge-srt-to-speech srt firebase-admin feedparser requests youtube-transcript-api --quiet"
      ]
    },
    {
      "cell_type": "code",
      "execution_count": null,
      "metadata": {
        "id": "kFA9eAa8vMQt"
      },
      "outputs": [],
      "source": [
        "# !python a.py tt36754289.vi-en.merge4_merged.srt audio.mp3 --voice vi-VN-NamMinhNeural"
      ]
    },
    {
      "cell_type": "code",
      "execution_count": null,
      "metadata": {
        "id": "A1d3o2VOC3KQ"
      },
      "outputs": [],
      "source": [
        "# !apt-get update -y\n",
        "# !apt-get install -y ffmpeg"
      ]
    },
    {
      "cell_type": "code",
      "execution_count": null,
      "metadata": {
        "id": "uRZ-r1oHC6P_"
      },
      "outputs": [],
      "source": [
        "# !ffmpeg -i \"https://s3.phim1280.tv/20240709/eGKLrbpA/index.m3u8\" -vn -c:a libmp3lame -b:a 192k audio.mp3"
      ]
    },
    {
      "cell_type": "code",
      "execution_count": null,
      "metadata": {
        "id": "MzGFkozrC-O-"
      },
      "outputs": [],
      "source": [
        "# !ffmpeg -i audio.mp3 -c:v libx264 -vf \"color=c=black:s=1280x720\" -shortest output.mp4"
      ]
    },
    {
      "cell_type": "code",
      "execution_count": null,
      "metadata": {
        "id": "cMZpvWjrMNQs"
      },
      "outputs": [],
      "source": [
        "# !ffmpeg -loop 1 -i cover.png -i audio.mp3 \\\n",
        "#   -c:v libx264 -tune stillimage -c:a aac -b:a 192k \\\n",
        "#   -pix_fmt yuv420p -shortest output.mp4"
      ]
    },
    {
      "cell_type": "code",
      "execution_count": null,
      "metadata": {
        "id": "2pPBVbkjwMIh"
      },
      "outputs": [],
      "source": [
        "# !python getSub.py"
      ]
    },
    {
      "cell_type": "code",
      "execution_count": null,
      "metadata": {
        "collapsed": true,
        "id": "e8kdMLhzLUUc"
      },
      "outputs": [],
      "source": [
        "# !python parse_link.py"
      ]
    },
    {
      "cell_type": "code",
      "execution_count": null,
      "metadata": {
        "collapsed": true,
        "id": "tNfm9skSNKPz"
      },
      "outputs": [],
      "source": [
        "# !python get_latest_video2.py"
      ]
    },
    {
      "cell_type": "code",
      "execution_count": null,
      "metadata": {
        "collapsed": true,
        "id": "YaSuKNKy0s_z"
      },
      "outputs": [],
      "source": [
        "# !python download_vi_subtitles3.py"
      ]
    },
    {
      "cell_type": "code",
      "execution_count": null,
      "metadata": {
        "id": "i0IadIcL6ZHM"
      },
      "outputs": [],
      "source": [
        "# !python download_vi_subtitles4.py"
      ]
    },
    {
      "cell_type": "code",
      "execution_count": null,
      "metadata": {
        "collapsed": true,
        "id": "4e1HrUVsovGa"
      },
      "outputs": [],
      "source": [
        "# !python download_vi_subtitles5.py"
      ]
    },
    {
      "cell_type": "code",
      "execution_count": null,
      "metadata": {
        "id": "qce5YedW1k6k"
      },
      "outputs": [],
      "source": [
        "!python download_en_subtitle.py"
      ]
    },
    {
      "cell_type": "code",
      "execution_count": null,
      "metadata": {
        "id": "8ugaltrImJUD"
      },
      "outputs": [],
      "source": [
        "# !yt-dlp --write-subs --sub-langs \"en\" --cookies cookies.txt https://www.youtube.com/watch?v=EnltgiUR3eo"
      ]
    },
    {
      "cell_type": "code",
      "execution_count": null,
      "metadata": {
        "id": "WuhGbiMtwzDN"
      },
      "outputs": [],
      "source": [
        "# !python addToFirestore.py"
      ]
    },
    {
      "cell_type": "code",
      "execution_count": null,
      "metadata": {
        "id": "Fix_ZbFa_L1I"
      },
      "outputs": [],
      "source": [
        "# !python subtitle_downloader.py"
      ]
    },
    {
      "cell_type": "code",
      "execution_count": null,
      "metadata": {
        "id": "gV9PdzCZ4iFP"
      },
      "outputs": [],
      "source": [
        "# !python subtitle_downloader2.py"
      ]
    },
    {
      "cell_type": "code",
      "execution_count": null,
      "metadata": {
        "id": "kgbJ6vL4jeNv"
      },
      "outputs": [],
      "source": [
        "!python spaceSrt_cleaner.py"
      ]
    },
    {
      "cell_type": "code",
      "execution_count": null,
      "metadata": {
        "collapsed": true,
        "id": "dCK4VaeGjfOe"
      },
      "outputs": [],
      "source": [
        "!python spaceSrt_cleaner2.py"
      ]
    },
    {
      "cell_type": "code",
      "execution_count": null,
      "metadata": {
        "collapsed": true,
        "id": "bC9XkQWxjfm3"
      },
      "outputs": [],
      "source": [
        "!python spaceSrt_cleaner3.py"
      ]
    },
    {
      "cell_type": "code",
      "execution_count": null,
      "metadata": {
        "collapsed": true,
        "id": "MzPG_0UIer8P"
      },
      "outputs": [],
      "source": [
        "!python spaceSrt_cleaner4.py"
      ]
    },
    {
      "cell_type": "code",
      "execution_count": null,
      "metadata": {
        "collapsed": true,
        "id": "OyB96hhdsIcm"
      },
      "outputs": [],
      "source": [
        "!python srt_Cleaner.py"
      ]
    },
    {
      "cell_type": "code",
      "execution_count": null,
      "metadata": {
        "collapsed": true,
        "id": "OQY_AkxQcMoy"
      },
      "outputs": [],
      "source": [
        "!python clean_speaker_names3.py"
      ]
    },
    {
      "cell_type": "code",
      "execution_count": null,
      "metadata": {
        "collapsed": true,
        "id": "Hpvd4dZpiMTq"
      },
      "outputs": [],
      "source": [
        "!python merge_Sub.py"
      ]
    },
    {
      "cell_type": "code",
      "execution_count": null,
      "metadata": {
        "collapsed": true,
        "id": "CW8soGFBiK0r"
      },
      "outputs": [],
      "source": [
        "!python merge_Sub2.py"
      ]
    },
    {
      "cell_type": "code",
      "execution_count": null,
      "metadata": {
        "collapsed": true,
        "id": "Tg79vFstiKP0"
      },
      "outputs": [],
      "source": [
        "!python merge_Sub3.py"
      ]
    },
    {
      "cell_type": "code",
      "execution_count": null,
      "metadata": {
        "id": "J3qS0KKnobi9"
      },
      "outputs": [],
      "source": [
        "!python merge_Sub4.py"
      ]
    },
    {
      "cell_type": "code",
      "execution_count": null,
      "metadata": {
        "collapsed": true,
        "id": "FgyXvb65jAaW"
      },
      "outputs": [],
      "source": [
        "!python merge_Sub5.py"
      ]
    },
    {
      "cell_type": "code",
      "execution_count": null,
      "metadata": {
        "id": "_JAix1vDYUfG"
      },
      "outputs": [],
      "source": [
        "!python merge_Sub6.py"
      ]
    },
    {
      "cell_type": "code",
      "execution_count": null,
      "metadata": {
        "collapsed": true,
        "id": "cCSlPmR5Lgr_"
      },
      "outputs": [],
      "source": [
        "# !python count_words.py"
      ]
    },
    {
      "cell_type": "code",
      "execution_count": null,
      "metadata": {
        "id": "NuPVKM_xMAC2"
      },
      "outputs": [],
      "source": [
        "# !python new_merge.py"
      ]
    },
    {
      "cell_type": "code",
      "execution_count": null,
      "metadata": {
        "id": "YJVEY6I9zeao"
      },
      "outputs": [],
      "source": [
        "!python rename_merge4.py"
      ]
    },
    {
      "cell_type": "code",
      "execution_count": null,
      "metadata": {
        "id": "YsMkVWLMqP3t"
      },
      "outputs": [],
      "source": [
        "!python convert_merge_to_mp3.py"
      ]
    },
    {
      "cell_type": "code",
      "execution_count": null,
      "metadata": {
        "id": "L5vvBTkE70iC"
      },
      "outputs": [],
      "source": [
        "!python convert_mp3_to_ogg.py"
      ]
    },
    {
      "cell_type": "code",
      "execution_count": null,
      "metadata": {
        "id": "igMO_a6ENb0L"
      },
      "outputs": [],
      "source": [
        "!python archive_uploader4.py"
      ]
    },
    {
      "cell_type": "code",
      "execution_count": null,
      "metadata": {
        "id": "DWjhkSAQNcXc"
      },
      "outputs": [],
      "source": [
        "!python cleanfile.py"
      ]
    },
    {
      "cell_type": "code",
      "execution_count": null,
      "metadata": {
        "id": "0bJ5YT42JESn"
      },
      "outputs": [],
      "source": [
        "!python cleanfile_exceptm4.py"
      ]
    },
    {
      "cell_type": "code",
      "execution_count": null,
      "metadata": {
        "id": "lMnwaMHSLewU"
      },
      "outputs": [],
      "source": [
        "!python merge_merge4.py"
      ]
    },
    {
      "cell_type": "code",
      "execution_count": null,
      "metadata": {
        "id": "FoIWV29dpTL1"
      },
      "outputs": [],
      "source": [
        "# !python script.py a7BVL1MOCl4.vi.cleansub.cleaned.srt"
      ]
    },
    {
      "cell_type": "code",
      "execution_count": null,
      "metadata": {
        "collapsed": true,
        "id": "d-NQYzop-3H_"
      },
      "outputs": [],
      "source": [
        "# !python -m edge_srt_to_speech 1.srt 1.mp3 --voice vi-VN-NamMinhNeural"
      ]
    },
    {
      "cell_type": "code",
      "execution_count": null,
      "metadata": {
        "collapsed": true,
        "id": "_53PBheEci75"
      },
      "outputs": [],
      "source": [
        "# %cd /content/drive/MyDrive/tool\n",
        "# !pip install feedparser requests pytz beautifulsoup4"
      ]
    },
    {
      "cell_type": "code",
      "execution_count": null,
      "metadata": {
        "collapsed": true,
        "id": "aJ21CgWyeGU4"
      },
      "outputs": [],
      "source": [
        "# !python rss_extractor.py \"https://news.google.com/rss/topics/CAAqJggKIiBDQkFTRWdvSUwyMHZNRGRqTVhZU0FuWnBHZ0pXVGlnQVAB/sections/CAQiQ0NCQVNMQW9JTDIwdk1EZGpNWFlTQW5acEdnSldUaUlOQ0FRYUNRb0hMMjB2TUcxcmVpb0pFZ2N2YlM4d2JXdDZLQUEqKggAKiYICiIgQ0JBU0Vnb0lMMjB2TURkak1YWVNBblpwR2dKV1RpZ0FQAVAB?hl=vi&gl=VN&ceid=VN%3Avi\" -v"
      ]
    },
    {
      "cell_type": "code",
      "execution_count": null,
      "metadata": {
        "collapsed": true,
        "id": "6h0XzGm4vvP_"
      },
      "outputs": [],
      "source": [
        "# !python github_scrap_links.py"
      ]
    },
    {
      "cell_type": "code",
      "execution_count": null,
      "metadata": {
        "collapsed": true,
        "id": "aFaDypKcho2I"
      },
      "outputs": [],
      "source": [
        "# !python producthunt_scraper.py"
      ]
    },
    {
      "cell_type": "code",
      "execution_count": null,
      "metadata": {
        "id": "TZkGzmp8OvxJ"
      },
      "outputs": [],
      "source": [
        "# !python archive_fetch.py > latest20.json"
      ]
    },
    {
      "cell_type": "code",
      "source": [
        "# import requests\n",
        "# import json\n",
        "# from datetime import datetime\n",
        "\n",
        "# # =============================\n",
        "# # CẤU HÌNH\n",
        "# # =============================\n",
        "# UPLOADER = \"blossworld12@gmail.com\"  # email archive.org của bạn\n",
        "# CREATOR = \"tech with tim\"   # creator muốn lọc\n",
        "# ROWS_PER_PAGE = 100           # số bản ghi mỗi trang (tối đa 1000)\n",
        "# OUTPUT_FILE = \"dw_documentary_uploads.json\"\n",
        "\n",
        "# # =============================\n",
        "# # HÀM LẤY DỮ LIỆU\n",
        "# # =============================\n",
        "# def fetch_dw_uploads(uploader, creator, rows_per_page=100):\n",
        "#     all_docs = []\n",
        "#     page = 1\n",
        "\n",
        "#     while True:\n",
        "#         params = {\n",
        "#             \"q\": f'uploader:{uploader} AND creator:\"{creator}\"',\n",
        "#             \"fl[]\": [\"identifier\", \"title\", \"creator\", \"date\", \"description\", \"collection\"],\n",
        "#             \"rows\": rows_per_page,\n",
        "#             \"page\": page,\n",
        "#             \"output\": \"json\"\n",
        "#         }\n",
        "#         res = requests.get(\"https://archive.org/advancedsearch.php\", params=params)\n",
        "#         data = res.json()\n",
        "#         docs = data.get(\"response\", {}).get(\"docs\", [])\n",
        "#         if not docs:\n",
        "#             break\n",
        "\n",
        "#         all_docs.extend(docs)\n",
        "#         print(f\"✅ Đã lấy {len(docs)} bản ghi ở trang {page}\")\n",
        "#         page += 1\n",
        "\n",
        "#     print(f\"\\n🎯 Tổng số bản ghi lấy được: {len(all_docs)}\")\n",
        "#     return all_docs\n",
        "\n",
        "# # =============================\n",
        "# # MAIN SCRIPT\n",
        "# # =============================\n",
        "# if __name__ == \"__main__\":\n",
        "#     docs = fetch_dw_uploads(UPLOADER, CREATOR, ROWS_PER_PAGE)\n",
        "\n",
        "#     # Lưu ra file JSON\n",
        "#     with open(OUTPUT_FILE, \"w\", encoding=\"utf-8\") as f:\n",
        "#         json.dump({\n",
        "#             \"fetched_at\": datetime.now().isoformat(),\n",
        "#             \"total\": len(docs),\n",
        "#             \"items\": docs\n",
        "#         }, f, ensure_ascii=False, indent=2)\n",
        "\n",
        "#     print(f\"\\n💾 Dữ liệu đã lưu vào: {OUTPUT_FILE}\")\n"
      ],
      "metadata": {
        "id": "vI0-VMR4B3Qc"
      },
      "execution_count": null,
      "outputs": []
    },
    {
      "cell_type": "code",
      "source": [
        "# import requests\n",
        "\n",
        "# API_KEY = \"844dba0bfd8f3a4f3799f6130ef9e335\"\n",
        "# # 40f1982842db35042e8561b13b38d492, 51d91894475b90ea5449bb71c1cd0a65, be7a1b6d19aadf8e429820ead6d4c592\n",
        "# url = f\"https://api.themoviedb.org/3/movie/now_playing?api_key={API_KEY}&language=en-US&page=1\"\n",
        "\n",
        "# response = requests.get(url)\n",
        "\n",
        "# if response.status_code == 200:\n",
        "#     print(\"✅ API key hợp lệ!\")\n",
        "#     data = response.json()\n",
        "#     print(f\"🎬 Có {len(data['results'])} phim đang chiếu.\")\n",
        "#     print(\"Ví dụ:\", data['results'][0]['title'])\n",
        "# else:\n",
        "#     print(\"❌ API key lỗi hoặc request thất bại!\")\n",
        "#     print(\"Mã lỗi:\", response.status_code)\n",
        "#     print(response.text)\n"
      ],
      "metadata": {
        "id": "hHnYi3m2conM"
      },
      "execution_count": null,
      "outputs": []
    },
    {
      "cell_type": "code",
      "source": [
        "# import requests\n",
        "\n",
        "# API_KEY = \"80c67654\" # cbfa71b7, 6f3f7969, 8bc777d3\n",
        "# BASE = \"http://www.omdbapi.com/\"\n",
        "\n",
        "# def test_omdb(api_key):\n",
        "#     params = {\"apikey\": api_key, \"t\": \"Inception\"}  # lấy phim \"Inception\" làm test\n",
        "#     resp = requests.get(BASE, params=params, timeout=10)\n",
        "#     try:\n",
        "#         resp.raise_for_status()\n",
        "#     except requests.HTTPError as e:\n",
        "#         print(\"HTTP error:\", e)\n",
        "#         return False\n",
        "\n",
        "#     data = resp.json()\n",
        "#     # OMDb trả về {\"Response\":\"False\",\"Error\":\"Invalid API key!\"} khi key sai\n",
        "#     if data.get(\"Response\") == \"False\":\n",
        "#         print(\"OMDb error:\", data.get(\"Error\"))\n",
        "#         return False\n",
        "\n",
        "#     print(\"OMDb key OK — sample result:\")\n",
        "#     print(\"Title:\", data.get(\"Title\"))\n",
        "#     print(\"Year:\", data.get(\"Year\"))\n",
        "#     print(\"IMDB ID:\", data.get(\"imdbID\"))\n",
        "#     return True\n",
        "\n",
        "# if __name__ == \"__main__\":\n",
        "#     ok = test_omdb(API_KEY)\n",
        "#     print(\"Result:\", ok)"
      ],
      "metadata": {
        "id": "fX6q5HORWnNj"
      },
      "execution_count": null,
      "outputs": []
    },
    {
      "cell_type": "code",
      "source": [
        "# import requests\n",
        "# import json\n",
        "\n",
        "# class TMDBFetcher:\n",
        "#     def __init__(self, api_key):\n",
        "#         self.api_key = api_key\n",
        "#         self.base_url = \"https://api.themoviedb.org/3\"\n",
        "#         self.headers = {\n",
        "#             \"accept\": \"application/json\"\n",
        "#         }\n",
        "\n",
        "#     def get_media_details(self, media_id, language=\"en-US\"):\n",
        "#         \"\"\"Lấy thông tin cơ bản của phim/series\"\"\"\n",
        "#         # Thử TV series trước\n",
        "#         url = f\"{self.base_url}/tv/{media_id}\"\n",
        "#         params = {\"api_key\": self.api_key, \"language\": language}\n",
        "\n",
        "#         response = requests.get(url, headers=self.headers, params=params)\n",
        "\n",
        "#         if response.status_code == 404:\n",
        "#             # Nếu không phải TV series, thử movie\n",
        "#             url = f\"{self.base_url}/movie/{media_id}\"\n",
        "#             response = requests.get(url, headers=self.headers, params=params)\n",
        "#             media_type = \"movie\"\n",
        "#         else:\n",
        "#             media_type = \"tv\"\n",
        "\n",
        "#         if response.status_code == 200:\n",
        "#             return response.json(), media_type\n",
        "#         else:\n",
        "#             print(f\"Lỗi: {response.status_code} - {response.text}\")\n",
        "#             return None, None\n",
        "\n",
        "#     def get_season_details(self, tv_id, season_number, language=\"en-US\"):\n",
        "#         \"\"\"Lấy chi tiết của một mùa phim\"\"\"\n",
        "#         url = f\"{self.base_url}/tv/{tv_id}/season/{season_number}\"\n",
        "#         params = {\"api_key\": self.api_key, \"language\": language}\n",
        "\n",
        "#         response = requests.get(url, headers=self.headers, params=params)\n",
        "\n",
        "#         if response.status_code == 200:\n",
        "#             return response.json()\n",
        "#         else:\n",
        "#             print(f\"Lỗi khi lấy mùa {season_number}: {response.status_code}\")\n",
        "#             return None\n",
        "\n",
        "#     def get_episode_images(self, tv_id, season_number, episode_number):\n",
        "#         \"\"\"Lấy ảnh thumbnail của tập phim\"\"\"\n",
        "#         url = f\"{self.base_url}/tv/{tv_id}/season/{season_number}/episode/{episode_number}/images\"\n",
        "#         params = {\"api_key\": self.api_key}\n",
        "\n",
        "#         response = requests.get(url, headers=self.headers, params=params)\n",
        "\n",
        "#         if response.status_code == 200:\n",
        "#             data = response.json()\n",
        "#             stills = data.get(\"stills\", [])\n",
        "#             if stills:\n",
        "#                 return stills[0].get(\"file_path\")  # Lấy ảnh đầu tiên\n",
        "#         return None\n",
        "\n",
        "#     def get_complete_data(self, media_id):\n",
        "#         \"\"\"Lấy toàn bộ dữ liệu với cả tiếng Anh và tiếng Việt\"\"\"\n",
        "#         print(f\"Đang lấy dữ liệu cho ID: {media_id}...\")\n",
        "\n",
        "#         # Lấy thông tin tiếng Anh (đầy đủ hơn)\n",
        "#         basic_info_en, media_type = self.get_media_details(media_id, \"en-US\")\n",
        "#         if not basic_info_en:\n",
        "#             return None\n",
        "\n",
        "#         # Lấy thông tin tiếng Việt\n",
        "#         basic_info_vi, _ = self.get_media_details(media_id, \"vi-VN\")\n",
        "\n",
        "#         result = {\n",
        "#             \"media_type\": media_type,\n",
        "#             \"id\": basic_info_en.get(\"id\"),\n",
        "#             \"name\": basic_info_en.get(\"name\") or basic_info_en.get(\"title\"),\n",
        "#             \"name_vi\": basic_info_vi.get(\"name\") or basic_info_vi.get(\"title\") if basic_info_vi else None,\n",
        "#             \"original_name\": basic_info_en.get(\"original_name\") or basic_info_en.get(\"original_title\"),\n",
        "#             \"overview\": basic_info_en.get(\"overview\"),\n",
        "#             \"overview_vi\": basic_info_vi.get(\"overview\") if basic_info_vi else None,\n",
        "#             \"poster_path\": basic_info_en.get(\"poster_path\"),\n",
        "#             \"backdrop_path\": basic_info_en.get(\"backdrop_path\"),\n",
        "#             \"first_air_date\": basic_info_en.get(\"first_air_date\") or basic_info_en.get(\"release_date\"),\n",
        "#             \"vote_average\": basic_info_en.get(\"vote_average\"),\n",
        "#             \"vote_count\": basic_info_en.get(\"vote_count\"),\n",
        "#             \"genres\": basic_info_en.get(\"genres\", []),\n",
        "#             \"production_companies\": basic_info_en.get(\"production_companies\", []),\n",
        "#             \"networks\": basic_info_en.get(\"networks\", []),\n",
        "#         }\n",
        "\n",
        "#         # Nếu là TV series, lấy thông tin các mùa và tập\n",
        "#         if media_type == \"tv\":\n",
        "#             result[\"number_of_seasons\"] = basic_info_en.get(\"number_of_seasons\")\n",
        "#             result[\"number_of_episodes\"] = basic_info_en.get(\"number_of_episodes\")\n",
        "#             result[\"status\"] = basic_info_en.get(\"status\")\n",
        "#             result[\"seasons\"] = []\n",
        "\n",
        "#             # Lấy chi tiết từng mùa\n",
        "#             for season in basic_info_en.get(\"seasons\", []):\n",
        "#                 season_number = season.get(\"season_number\")\n",
        "#                 print(f\"  Đang lấy dữ liệu mùa {season_number}...\")\n",
        "\n",
        "#                 # Lấy cả tiếng Anh và tiếng Việt\n",
        "#                 season_details_en = self.get_season_details(media_id, season_number, \"en-US\")\n",
        "#                 season_details_vi = self.get_season_details(media_id, season_number, \"vi-VN\")\n",
        "\n",
        "#                 if season_details_en:\n",
        "#                     season_data = {\n",
        "#                         \"season_number\": season_number,\n",
        "#                         \"name\": season_details_en.get(\"name\"),\n",
        "#                         \"name_vi\": season_details_vi.get(\"name\") if season_details_vi else None,\n",
        "#                         \"overview\": season_details_en.get(\"overview\"),\n",
        "#                         \"overview_vi\": season_details_vi.get(\"overview\") if season_details_vi else None,\n",
        "#                         \"air_date\": season_details_en.get(\"air_date\"),\n",
        "#                         \"poster_path\": season_details_en.get(\"poster_path\"),\n",
        "#                         \"episode_count\": len(season_details_en.get(\"episodes\", [])),\n",
        "#                         \"episodes\": []\n",
        "#                     }\n",
        "\n",
        "#                     # Tạo dict cho episodes tiếng Việt để lookup nhanh\n",
        "#                     episodes_vi_dict = {}\n",
        "#                     if season_details_vi:\n",
        "#                         for ep_vi in season_details_vi.get(\"episodes\", []):\n",
        "#                             episodes_vi_dict[ep_vi.get(\"episode_number\")] = ep_vi\n",
        "\n",
        "#                     # Lấy thông tin từng tập\n",
        "#                     for episode in season_details_en.get(\"episodes\", []):\n",
        "#                         ep_num = episode.get(\"episode_number\")\n",
        "#                         ep_vi = episodes_vi_dict.get(ep_num, {})\n",
        "\n",
        "#                         # Lấy thumbnail\n",
        "#                         still_path = episode.get(\"still_path\")\n",
        "#                         if not still_path:\n",
        "#                             still_path = self.get_episode_images(media_id, season_number, ep_num)\n",
        "\n",
        "#                         episode_data = {\n",
        "#                             \"episode_number\": ep_num,\n",
        "#                             \"name\": episode.get(\"name\"),\n",
        "#                             \"name_vi\": ep_vi.get(\"name\"),\n",
        "#                             \"overview\": episode.get(\"overview\"),\n",
        "#                             \"overview_vi\": ep_vi.get(\"overview\"),\n",
        "#                             \"air_date\": episode.get(\"air_date\"),\n",
        "#                             \"runtime\": episode.get(\"runtime\"),\n",
        "#                             \"vote_average\": episode.get(\"vote_average\"),\n",
        "#                             \"vote_count\": episode.get(\"vote_count\"),\n",
        "#                             \"still_path\": still_path,\n",
        "#                             \"still_url\": f\"https://image.tmdb.org/t/p/w500{still_path}\" if still_path else None\n",
        "#                         }\n",
        "#                         season_data[\"episodes\"].append(episode_data)\n",
        "#                         print(f\"    ✓ Tập {ep_num}: {episode.get('name')}\")\n",
        "\n",
        "#                     result[\"seasons\"].append(season_data)\n",
        "#         else:\n",
        "#             # Nếu là movie\n",
        "#             result[\"runtime\"] = basic_info_en.get(\"runtime\")\n",
        "#             result[\"budget\"] = basic_info_en.get(\"budget\")\n",
        "#             result[\"revenue\"] = basic_info_en.get(\"revenue\")\n",
        "#             result[\"status\"] = basic_info_en.get(\"status\")\n",
        "\n",
        "#         return result\n",
        "\n",
        "#     def save_to_json(self, data, filename=\"tmdb_data.json\"):\n",
        "#         \"\"\"Lưu dữ liệu vào file JSON\"\"\"\n",
        "#         with open(filename, 'w', encoding='utf-8') as f:\n",
        "#             json.dump(data, f, ensure_ascii=False, indent=2)\n",
        "#         print(f\"\\n✅ Đã lưu dữ liệu vào file: {filename}\")\n",
        "\n",
        "\n",
        "# # Sử dụng\n",
        "# if __name__ == \"__main__\":\n",
        "#     # Thay YOUR_API_KEY bằng API key của bạn\n",
        "#     API_KEY = \"844dba0bfd8f3a4f3799f6130ef9e335\"\n",
        "#     MEDIA_ID = 298698\n",
        "\n",
        "#     fetcher = TMDBFetcher(API_KEY)\n",
        "#     data = fetcher.get_complete_data(MEDIA_ID)\n",
        "\n",
        "#     if data:\n",
        "#         # Lưu vào file JSON\n",
        "#         fetcher.save_to_json(data, f\"tmdb_{MEDIA_ID}.json\")\n",
        "\n",
        "#         # In tóm tắt\n",
        "#         print(\"\\n\" + \"=\"*60)\n",
        "#         print(f\"Tên: {data['name']}\")\n",
        "#         if data.get('name_vi'):\n",
        "#             print(f\"Tên (VI): {data['name_vi']}\")\n",
        "#         print(f\"Nội dung: {data['overview'][:200]}...\")\n",
        "\n",
        "#         if data['media_type'] == 'tv':\n",
        "#             print(f\"\\nSố mùa: {data['number_of_seasons']}\")\n",
        "#             print(f\"Tổng số tập: {data['number_of_episodes']}\")\n",
        "#             print(f\"Trạng thái: {data['status']}\")\n",
        "#             print(\"\\nChi tiết các mùa:\")\n",
        "#             for season in data['seasons']:\n",
        "#                 print(f\"\\n  🎬 Mùa {season['season_number']}: {season['name']}\")\n",
        "#                 print(f\"  Số tập: {season['episode_count']}\")\n",
        "#                 print(f\"  Ngày phát sóng: {season['air_date']}\")\n",
        "\n",
        "#                 # Hiển thị 3 tập đầu tiên\n",
        "#                 for ep in season['episodes'][:3]:\n",
        "#                     print(f\"\\n    📺 Tập {ep['episode_number']}: {ep['name']}\")\n",
        "#                     if ep.get('overview'):\n",
        "#                         print(f\"       Nội dung: {ep['overview'][:100]}...\")\n",
        "#                     print(f\"       Thời lượng: {ep['runtime']} phút\")\n",
        "#                     print(f\"       Rating: {ep['vote_average']}/10\")\n",
        "#                     if ep['still_url']:\n",
        "#                         print(f\"       Thumbnail: {ep['still_url']}\")\n",
        "\n",
        "#                 if len(season['episodes']) > 3:\n",
        "#                     print(f\"\\n    ... và {len(season['episodes']) - 3} tập khác\")\n",
        "#         else:\n",
        "#             print(f\"Thời lượng: {data['runtime']} phút\")\n",
        "\n",
        "#         print(\"=\"*60)\n",
        "#         print(f\"\\n📁 Xem chi tiết đầy đủ trong file: tmdb_{MEDIA_ID}.json\")\n",
        "#     else:\n",
        "#         print(\"❌ Không thể lấy dữ liệu!\")"
      ],
      "metadata": {
        "id": "HywWtO1xr3ad"
      },
      "execution_count": null,
      "outputs": []
    },
    {
      "cell_type": "code",
      "source": [
        "import requests\n",
        "import xml.etree.ElementTree as ET\n",
        "import json\n",
        "\n",
        "def parse_opensubtitles_xml(url):\n",
        "    \"\"\"\n",
        "    Lấy và parse dữ liệu XML từ OpenSubtitles\n",
        "    \"\"\"\n",
        "    try:\n",
        "        # Gửi request để lấy dữ liệu XML\n",
        "        headers = {\n",
        "            'User-Agent': 'Mozilla/5.0 (Windows NT 10.0; Win64; x64) AppleWebKit/537.36'\n",
        "        }\n",
        "        response = requests.get(url, headers=headers, timeout=30)\n",
        "        response.raise_for_status()\n",
        "\n",
        "        # Parse XML\n",
        "        root = ET.fromstring(response.content)\n",
        "\n",
        "        # Danh sách chứa kết quả\n",
        "        results = []\n",
        "\n",
        "        # Tìm tất cả các subtitle entries\n",
        "        # Cấu trúc có thể là search/results/subtitle hoặc search/subtitle\n",
        "        subtitles = root.findall('.//subtitle')\n",
        "\n",
        "        for subtitle in subtitles:\n",
        "            # Lấy MovieYear để kiểm tra điều kiện\n",
        "            movie_year = get_text(subtitle, 'MovieYear')\n",
        "\n",
        "            # Chỉ lấy nếu MovieYear là 2025\n",
        "            if movie_year and movie_year.strip() == '2025':\n",
        "                # Lấy IDSubtitle element để truy cập attributes\n",
        "                id_subtitle = subtitle.find('IDSubtitle')\n",
        "                link_download = id_subtitle.get('LinkDownload') if id_subtitle is not None else None\n",
        "                link_imdb = id_subtitle.get('LinkImdb') if id_subtitle is not None else None\n",
        "\n",
        "                # Extract IMDb ID từ LinkImdb (lấy phần số từ URL)\n",
        "                movie_imdb_id = None\n",
        "                if link_imdb:\n",
        "                    # LinkImdb format: /redirect/http://www.imdb.com/title/tt37918333/\n",
        "                    parts = link_imdb.split('/tt')\n",
        "                    if len(parts) > 1:\n",
        "                        movie_imdb_id = parts[1].rstrip('/')\n",
        "\n",
        "                # Lấy MovieThumb từ attribute của MovieID\n",
        "                movie_id = subtitle.find('MovieID')\n",
        "                movie_thumb = movie_id.get('MovieThumb') if movie_id is not None else None\n",
        "\n",
        "                data = {\n",
        "                    'LinkDownload': link_download,\n",
        "                    'MovieThumb': movie_thumb,\n",
        "                    'MovieNameTV': get_text(subtitle, 'MovieName'),\n",
        "                    'MovieYear': movie_year,\n",
        "                    'MovieImdbID': movie_imdb_id,\n",
        "                    'LanguageName': get_text(subtitle, 'LanguageName'),\n",
        "                    'SubFormat': get_text(subtitle, 'SubFormat'),\n",
        "                    'SubDate': get_text(subtitle, 'SubAddDate'),\n",
        "                    'SeriesSeason': get_text(subtitle, 'SeriesSeason'),\n",
        "                    'SeriesEpisode': get_text(subtitle, 'SeriesEpisode'),\n",
        "                    'SeriesImdbParent': get_text(subtitle, 'SeriesIMDBParent')\n",
        "                }\n",
        "                results.append(data)\n",
        "\n",
        "        return results\n",
        "\n",
        "    except requests.RequestException as e:\n",
        "        print(f\"Lỗi khi tải dữ liệu: {e}\")\n",
        "        return []\n",
        "    except ET.ParseError as e:\n",
        "        print(f\"Lỗi khi parse XML: {e}\")\n",
        "        return []\n",
        "\n",
        "def get_text(element, tag):\n",
        "    \"\"\"\n",
        "    Lấy text từ element XML, trả về None nếu không tồn tại\n",
        "    \"\"\"\n",
        "    child = element.find(tag)\n",
        "    return child.text if child is not None else None\n",
        "\n",
        "def save_to_json(data, filename='opensubtitles_data.json'):\n",
        "    \"\"\"\n",
        "    Lưu dữ liệu vào file JSON\n",
        "    \"\"\"\n",
        "    with open(filename, 'w', encoding='utf-8') as f:\n",
        "        json.dump(data, f, ensure_ascii=False, indent=2)\n",
        "    print(f\"Đã lưu {len(data)} mục vào {filename}\")\n",
        "\n",
        "# Sử dụng\n",
        "if __name__ == \"__main__\":\n",
        "    url = \"https://www.opensubtitles.org/vi/search/sublanguageid-vie/xml\"\n",
        "    # url = \"https://www.opensubtitles.org/vi/search/sublanguageid-vie,spa,ara,fre,heb,ita,jpn/xml\"\n",
        "\n",
        "    print(\"Đang tải và parse dữ liệu...\")\n",
        "    data = parse_opensubtitles_xml(url)\n",
        "\n",
        "    if data:\n",
        "        # In ra 3 mục đầu tiên để xem\n",
        "        print(f\"\\nĐã tìm thấy {len(data)} subtitle(s)\")\n",
        "        print(\"\\n3 mục đầu tiên:\")\n",
        "        print(json.dumps(data[:3], ensure_ascii=False, indent=2))\n",
        "\n",
        "        # Lưu vào file JSON\n",
        "        save_to_json(data)\n",
        "\n",
        "        # Hoặc chuyển thành JSON string\n",
        "        json_string = json.dumps(data, ensure_ascii=False, indent=2)\n",
        "        # print(json_string)\n",
        "    else:\n",
        "        print(\"Không tìm thấy dữ liệu hoặc có lỗi xảy ra\")"
      ],
      "metadata": {
        "id": "zCIL8eK5fajL"
      },
      "execution_count": null,
      "outputs": []
    }
  ],
  "metadata": {
    "colab": {
      "provenance": [],
      "mount_file_id": "1AwP1NJOk-lRZFZicrBuaxeJTW8yeCkfj",
      "authorship_tag": "ABX9TyO/KlVgFVSlRE+AM04ty5z2",
      "include_colab_link": true
    },
    "kernelspec": {
      "display_name": "Python 3",
      "name": "python3"
    },
    "language_info": {
      "name": "python"
    }
  },
  "nbformat": 4,
  "nbformat_minor": 0
}